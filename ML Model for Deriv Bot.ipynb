{
 "cells": [
  {
   "cell_type": "markdown",
   "id": "a362ee77-ff69-4117-b7f1-2975a733e603",
   "metadata": {},
   "source": [
    "# ML Model for Deriv Bot"
   ]
  },
  {
   "cell_type": "markdown",
   "id": "448fb681-e5a8-4b90-9dc1-46fa05d1670c",
   "metadata": {},
   "source": [
    "## Loading Data"
   ]
  },
  {
   "cell_type": "code",
   "execution_count": 3,
   "id": "dc017767-998c-4e3e-899d-5c557904bf2b",
   "metadata": {},
   "outputs": [
    {
     "data": {
      "text/html": [
       "<div>\n",
       "<style scoped>\n",
       "    .dataframe tbody tr th:only-of-type {\n",
       "        vertical-align: middle;\n",
       "    }\n",
       "\n",
       "    .dataframe tbody tr th {\n",
       "        vertical-align: top;\n",
       "    }\n",
       "\n",
       "    .dataframe thead th {\n",
       "        text-align: right;\n",
       "    }\n",
       "</style>\n",
       "<table border=\"1\" class=\"dataframe\">\n",
       "  <thead>\n",
       "    <tr style=\"text-align: right;\">\n",
       "      <th></th>\n",
       "      <th>Market</th>\n",
       "      <th>Reference ID (buy)</th>\n",
       "      <th>Reference ID (sell)</th>\n",
       "      <th>Barrier</th>\n",
       "      <th>Start Time</th>\n",
       "      <th>Entry Spot</th>\n",
       "      <th>Entry Spot Time</th>\n",
       "      <th>Exit Spot</th>\n",
       "      <th>Exit Spot Time</th>\n",
       "      <th>Buy Price</th>\n",
       "      <th>Profit/Loss</th>\n",
       "    </tr>\n",
       "  </thead>\n",
       "  <tbody>\n",
       "    <tr>\n",
       "      <th>0</th>\n",
       "      <td>Volatility 100 (1s) Index</td>\n",
       "      <td>464873831228</td>\n",
       "      <td>464873842008</td>\n",
       "      <td>1669.45</td>\n",
       "      <td>2024-2-20 03:14:01 GMT</td>\n",
       "      <td>1669.45</td>\n",
       "      <td>2024-2-20 03:14:02 GMT</td>\n",
       "      <td>1669.25</td>\n",
       "      <td>2024-2-20 03:14:07 GMT</td>\n",
       "      <td>10.5</td>\n",
       "      <td>-10.50</td>\n",
       "    </tr>\n",
       "    <tr>\n",
       "      <th>1</th>\n",
       "      <td>Volatility 100 (1s) Index</td>\n",
       "      <td>464873808708</td>\n",
       "      <td>464873819928</td>\n",
       "      <td>1668.67</td>\n",
       "      <td>2024-2-20 03:13:49 GMT</td>\n",
       "      <td>1668.67</td>\n",
       "      <td>2024-2-20 03:13:50 GMT</td>\n",
       "      <td>1668.41</td>\n",
       "      <td>2024-2-20 03:13:55 GMT</td>\n",
       "      <td>3.5</td>\n",
       "      <td>-3.50</td>\n",
       "    </tr>\n",
       "    <tr>\n",
       "      <th>2</th>\n",
       "      <td>Volatility 100 (1s) Index</td>\n",
       "      <td>464873792048</td>\n",
       "      <td>464873802808</td>\n",
       "      <td>1667.95</td>\n",
       "      <td>2024-2-20 03:13:40 GMT</td>\n",
       "      <td>1668.30</td>\n",
       "      <td>2024-2-20 03:13:41 GMT</td>\n",
       "      <td>1668.55</td>\n",
       "      <td>2024-2-20 03:13:46 GMT</td>\n",
       "      <td>3.5</td>\n",
       "      <td>2.14</td>\n",
       "    </tr>\n",
       "    <tr>\n",
       "      <th>3</th>\n",
       "      <td>Volatility 100 (1s) Index</td>\n",
       "      <td>464873777188</td>\n",
       "      <td>464873787708</td>\n",
       "      <td>1667.63</td>\n",
       "      <td>2024-2-20 03:13:31 GMT</td>\n",
       "      <td>1667.82</td>\n",
       "      <td>2024-2-20 03:13:32 GMT</td>\n",
       "      <td>1668.13</td>\n",
       "      <td>2024-2-20 03:13:37 GMT</td>\n",
       "      <td>94.5</td>\n",
       "      <td>57.70</td>\n",
       "    </tr>\n",
       "    <tr>\n",
       "      <th>4</th>\n",
       "      <td>Volatility 100 (1s) Index</td>\n",
       "      <td>464873760188</td>\n",
       "      <td>464873772708</td>\n",
       "      <td>1668.10</td>\n",
       "      <td>2024-2-20 03:13:22 GMT</td>\n",
       "      <td>1668.30</td>\n",
       "      <td>2024-2-20 03:13:23 GMT</td>\n",
       "      <td>1667.78</td>\n",
       "      <td>2024-2-20 03:13:28 GMT</td>\n",
       "      <td>31.5</td>\n",
       "      <td>-31.50</td>\n",
       "    </tr>\n",
       "    <tr>\n",
       "      <th>...</th>\n",
       "      <td>...</td>\n",
       "      <td>...</td>\n",
       "      <td>...</td>\n",
       "      <td>...</td>\n",
       "      <td>...</td>\n",
       "      <td>...</td>\n",
       "      <td>...</td>\n",
       "      <td>...</td>\n",
       "      <td>...</td>\n",
       "      <td>...</td>\n",
       "      <td>...</td>\n",
       "    </tr>\n",
       "    <tr>\n",
       "      <th>3079</th>\n",
       "      <td>Volatility 100 (1s) Index</td>\n",
       "      <td>464815083428</td>\n",
       "      <td>464815099308</td>\n",
       "      <td>1682.63</td>\n",
       "      <td>2024-2-19 19:59:41 GMT</td>\n",
       "      <td>1682.91</td>\n",
       "      <td>2024-2-19 19:59:42 GMT</td>\n",
       "      <td>1682.65</td>\n",
       "      <td>2024-2-19 19:59:47 GMT</td>\n",
       "      <td>10.5</td>\n",
       "      <td>6.41</td>\n",
       "    </tr>\n",
       "    <tr>\n",
       "      <th>3080</th>\n",
       "      <td>Volatility 100 (1s) Index</td>\n",
       "      <td>464815064168</td>\n",
       "      <td>464815079168</td>\n",
       "      <td>1682.80</td>\n",
       "      <td>2024-2-19 19:59:34 GMT</td>\n",
       "      <td>1682.80</td>\n",
       "      <td>2024-2-19 19:59:35 GMT</td>\n",
       "      <td>1682.66</td>\n",
       "      <td>2024-2-19 19:59:40 GMT</td>\n",
       "      <td>3.5</td>\n",
       "      <td>-3.50</td>\n",
       "    </tr>\n",
       "    <tr>\n",
       "      <th>3081</th>\n",
       "      <td>Volatility 100 (1s) Index</td>\n",
       "      <td>464815043608</td>\n",
       "      <td>464815060288</td>\n",
       "      <td>1682.41</td>\n",
       "      <td>2024-2-19 19:59:27 GMT</td>\n",
       "      <td>1682.54</td>\n",
       "      <td>2024-2-19 19:59:28 GMT</td>\n",
       "      <td>1683.06</td>\n",
       "      <td>2024-2-19 19:59:33 GMT</td>\n",
       "      <td>3.5</td>\n",
       "      <td>2.14</td>\n",
       "    </tr>\n",
       "    <tr>\n",
       "      <th>3082</th>\n",
       "      <td>Volatility 100 (1s) Index</td>\n",
       "      <td>464815024368</td>\n",
       "      <td>464815038528</td>\n",
       "      <td>1681.44</td>\n",
       "      <td>2024-2-19 19:59:20 GMT</td>\n",
       "      <td>1681.60</td>\n",
       "      <td>2024-2-19 19:59:21 GMT</td>\n",
       "      <td>1682.19</td>\n",
       "      <td>2024-2-19 19:59:26 GMT</td>\n",
       "      <td>3.5</td>\n",
       "      <td>2.14</td>\n",
       "    </tr>\n",
       "    <tr>\n",
       "      <th>3083</th>\n",
       "      <td>Volatility 100 (1s) Index</td>\n",
       "      <td>464815003068</td>\n",
       "      <td>464815019588</td>\n",
       "      <td>1683.18</td>\n",
       "      <td>2024-2-19 19:59:12 GMT</td>\n",
       "      <td>1683.19</td>\n",
       "      <td>2024-2-19 19:59:13 GMT</td>\n",
       "      <td>1683.62</td>\n",
       "      <td>2024-2-19 19:59:18 GMT</td>\n",
       "      <td>10.5</td>\n",
       "      <td>6.41</td>\n",
       "    </tr>\n",
       "  </tbody>\n",
       "</table>\n",
       "<p>3084 rows × 11 columns</p>\n",
       "</div>"
      ],
      "text/plain": [
       "                         Market  Reference ID (buy)  Reference ID (sell)  \\\n",
       "0     Volatility 100 (1s) Index        464873831228         464873842008   \n",
       "1     Volatility 100 (1s) Index        464873808708         464873819928   \n",
       "2     Volatility 100 (1s) Index        464873792048         464873802808   \n",
       "3     Volatility 100 (1s) Index        464873777188         464873787708   \n",
       "4     Volatility 100 (1s) Index        464873760188         464873772708   \n",
       "...                         ...                 ...                  ...   \n",
       "3079  Volatility 100 (1s) Index        464815083428         464815099308   \n",
       "3080  Volatility 100 (1s) Index        464815064168         464815079168   \n",
       "3081  Volatility 100 (1s) Index        464815043608         464815060288   \n",
       "3082  Volatility 100 (1s) Index        464815024368         464815038528   \n",
       "3083  Volatility 100 (1s) Index        464815003068         464815019588   \n",
       "\n",
       "      Barrier              Start Time  Entry Spot         Entry Spot Time  \\\n",
       "0     1669.45  2024-2-20 03:14:01 GMT     1669.45  2024-2-20 03:14:02 GMT   \n",
       "1     1668.67  2024-2-20 03:13:49 GMT     1668.67  2024-2-20 03:13:50 GMT   \n",
       "2     1667.95  2024-2-20 03:13:40 GMT     1668.30  2024-2-20 03:13:41 GMT   \n",
       "3     1667.63  2024-2-20 03:13:31 GMT     1667.82  2024-2-20 03:13:32 GMT   \n",
       "4     1668.10  2024-2-20 03:13:22 GMT     1668.30  2024-2-20 03:13:23 GMT   \n",
       "...       ...                     ...         ...                     ...   \n",
       "3079  1682.63  2024-2-19 19:59:41 GMT     1682.91  2024-2-19 19:59:42 GMT   \n",
       "3080  1682.80  2024-2-19 19:59:34 GMT     1682.80  2024-2-19 19:59:35 GMT   \n",
       "3081  1682.41  2024-2-19 19:59:27 GMT     1682.54  2024-2-19 19:59:28 GMT   \n",
       "3082  1681.44  2024-2-19 19:59:20 GMT     1681.60  2024-2-19 19:59:21 GMT   \n",
       "3083  1683.18  2024-2-19 19:59:12 GMT     1683.19  2024-2-19 19:59:13 GMT   \n",
       "\n",
       "      Exit Spot          Exit Spot Time  Buy Price  Profit/Loss  \n",
       "0       1669.25  2024-2-20 03:14:07 GMT       10.5       -10.50  \n",
       "1       1668.41  2024-2-20 03:13:55 GMT        3.5        -3.50  \n",
       "2       1668.55  2024-2-20 03:13:46 GMT        3.5         2.14  \n",
       "3       1668.13  2024-2-20 03:13:37 GMT       94.5        57.70  \n",
       "4       1667.78  2024-2-20 03:13:28 GMT       31.5       -31.50  \n",
       "...         ...                     ...        ...          ...  \n",
       "3079    1682.65  2024-2-19 19:59:47 GMT       10.5         6.41  \n",
       "3080    1682.66  2024-2-19 19:59:40 GMT        3.5        -3.50  \n",
       "3081    1683.06  2024-2-19 19:59:33 GMT        3.5         2.14  \n",
       "3082    1682.19  2024-2-19 19:59:26 GMT        3.5         2.14  \n",
       "3083    1683.62  2024-2-19 19:59:18 GMT       10.5         6.41  \n",
       "\n",
       "[3084 rows x 11 columns]"
      ]
     },
     "execution_count": 3,
     "metadata": {},
     "output_type": "execute_result"
    }
   ],
   "source": [
    "import pandas as pd\n",
    "df = pd.read_csv('Deriv Bot Transactions.csv')\n",
    "df"
   ]
  },
  {
   "cell_type": "markdown",
   "id": "0938b63f-9a5e-4604-897d-f6a7698a99a7",
   "metadata": {},
   "source": [
    "## Data Preparation"
   ]
  },
  {
   "cell_type": "markdown",
   "id": "47c3f867-4817-40d5-abe9-7a1632dfaddd",
   "metadata": {},
   "source": [
    "### Separating X and Y"
   ]
  },
  {
   "cell_type": "code",
   "execution_count": 4,
   "id": "c4606e1e-a5d9-4d1b-b95c-0d3f62c796fd",
   "metadata": {},
   "outputs": [
    {
     "data": {
      "text/plain": [
       "0      -10.50\n",
       "1       -3.50\n",
       "2        2.14\n",
       "3       57.70\n",
       "4      -31.50\n",
       "        ...  \n",
       "3079     6.41\n",
       "3080    -3.50\n",
       "3081     2.14\n",
       "3082     2.14\n",
       "3083     6.41\n",
       "Name: Profit/Loss, Length: 3084, dtype: float64"
      ]
     },
     "execution_count": 4,
     "metadata": {},
     "output_type": "execute_result"
    }
   ],
   "source": [
    "y = df['Profit/Loss']\n",
    "y"
   ]
  },
  {
   "cell_type": "code",
   "execution_count": 64,
   "id": "5c7ea57d-9e92-407c-92b0-90d679b329b8",
   "metadata": {},
   "outputs": [
    {
     "data": {
      "text/html": [
       "<div>\n",
       "<style scoped>\n",
       "    .dataframe tbody tr th:only-of-type {\n",
       "        vertical-align: middle;\n",
       "    }\n",
       "\n",
       "    .dataframe tbody tr th {\n",
       "        vertical-align: top;\n",
       "    }\n",
       "\n",
       "    .dataframe thead th {\n",
       "        text-align: right;\n",
       "    }\n",
       "</style>\n",
       "<table border=\"1\" class=\"dataframe\">\n",
       "  <thead>\n",
       "    <tr style=\"text-align: right;\">\n",
       "      <th></th>\n",
       "      <th>Barrier</th>\n",
       "      <th>Entry Spot</th>\n",
       "      <th>Exit Spot</th>\n",
       "      <th>Buy Price</th>\n",
       "    </tr>\n",
       "  </thead>\n",
       "  <tbody>\n",
       "    <tr>\n",
       "      <th>0</th>\n",
       "      <td>1669.45</td>\n",
       "      <td>1669.45</td>\n",
       "      <td>1669.25</td>\n",
       "      <td>10.5</td>\n",
       "    </tr>\n",
       "    <tr>\n",
       "      <th>1</th>\n",
       "      <td>1668.67</td>\n",
       "      <td>1668.67</td>\n",
       "      <td>1668.41</td>\n",
       "      <td>3.5</td>\n",
       "    </tr>\n",
       "    <tr>\n",
       "      <th>2</th>\n",
       "      <td>1667.95</td>\n",
       "      <td>1668.30</td>\n",
       "      <td>1668.55</td>\n",
       "      <td>3.5</td>\n",
       "    </tr>\n",
       "    <tr>\n",
       "      <th>3</th>\n",
       "      <td>1667.63</td>\n",
       "      <td>1667.82</td>\n",
       "      <td>1668.13</td>\n",
       "      <td>94.5</td>\n",
       "    </tr>\n",
       "    <tr>\n",
       "      <th>4</th>\n",
       "      <td>1668.10</td>\n",
       "      <td>1668.30</td>\n",
       "      <td>1667.78</td>\n",
       "      <td>31.5</td>\n",
       "    </tr>\n",
       "    <tr>\n",
       "      <th>...</th>\n",
       "      <td>...</td>\n",
       "      <td>...</td>\n",
       "      <td>...</td>\n",
       "      <td>...</td>\n",
       "    </tr>\n",
       "    <tr>\n",
       "      <th>3079</th>\n",
       "      <td>1682.63</td>\n",
       "      <td>1682.91</td>\n",
       "      <td>1682.65</td>\n",
       "      <td>10.5</td>\n",
       "    </tr>\n",
       "    <tr>\n",
       "      <th>3080</th>\n",
       "      <td>1682.80</td>\n",
       "      <td>1682.80</td>\n",
       "      <td>1682.66</td>\n",
       "      <td>3.5</td>\n",
       "    </tr>\n",
       "    <tr>\n",
       "      <th>3081</th>\n",
       "      <td>1682.41</td>\n",
       "      <td>1682.54</td>\n",
       "      <td>1683.06</td>\n",
       "      <td>3.5</td>\n",
       "    </tr>\n",
       "    <tr>\n",
       "      <th>3082</th>\n",
       "      <td>1681.44</td>\n",
       "      <td>1681.60</td>\n",
       "      <td>1682.19</td>\n",
       "      <td>3.5</td>\n",
       "    </tr>\n",
       "    <tr>\n",
       "      <th>3083</th>\n",
       "      <td>1683.18</td>\n",
       "      <td>1683.19</td>\n",
       "      <td>1683.62</td>\n",
       "      <td>10.5</td>\n",
       "    </tr>\n",
       "  </tbody>\n",
       "</table>\n",
       "<p>3084 rows × 4 columns</p>\n",
       "</div>"
      ],
      "text/plain": [
       "      Barrier  Entry Spot  Exit Spot  Buy Price\n",
       "0     1669.45     1669.45    1669.25       10.5\n",
       "1     1668.67     1668.67    1668.41        3.5\n",
       "2     1667.95     1668.30    1668.55        3.5\n",
       "3     1667.63     1667.82    1668.13       94.5\n",
       "4     1668.10     1668.30    1667.78       31.5\n",
       "...       ...         ...        ...        ...\n",
       "3079  1682.63     1682.91    1682.65       10.5\n",
       "3080  1682.80     1682.80    1682.66        3.5\n",
       "3081  1682.41     1682.54    1683.06        3.5\n",
       "3082  1681.44     1681.60    1682.19        3.5\n",
       "3083  1683.18     1683.19    1683.62       10.5\n",
       "\n",
       "[3084 rows x 4 columns]"
      ]
     },
     "execution_count": 64,
     "metadata": {},
     "output_type": "execute_result"
    }
   ],
   "source": [
    "x1 = df.drop('Reference ID (sell)', axis=1)\n",
    "x2 = x1.drop('Entry Spot Time', axis=1)\n",
    "x3 = x2.drop('Exit Spot Time', axis=1)\n",
    "x4 = x3.drop('Profit/Loss', axis=1)\n",
    "x5 = x4.drop(' Market', axis=1)\n",
    "x5\n",
    "x = x5\n",
    "x"
   ]
  },
  {
   "cell_type": "markdown",
   "id": "bdbd9a7d-235b-4aad-b522-d03cb66b6736",
   "metadata": {},
   "source": [
    "## Data Splitting"
   ]
  },
  {
   "cell_type": "code",
   "execution_count": 65,
   "id": "8ba52695-1bef-421a-83e6-aef5d5193f41",
   "metadata": {},
   "outputs": [],
   "source": [
    "from sklearn.model_selection import train_test_split\n",
    "x_train, x_test, y_train, y_test = train_test_split(x, y, test_size=0.2, random_state=100)"
   ]
  },
  {
   "cell_type": "code",
   "execution_count": 66,
   "id": "61195c91-353f-484e-a2fe-f915976488f4",
   "metadata": {},
   "outputs": [
    {
     "data": {
      "text/html": [
       "<div>\n",
       "<style scoped>\n",
       "    .dataframe tbody tr th:only-of-type {\n",
       "        vertical-align: middle;\n",
       "    }\n",
       "\n",
       "    .dataframe tbody tr th {\n",
       "        vertical-align: top;\n",
       "    }\n",
       "\n",
       "    .dataframe thead th {\n",
       "        text-align: right;\n",
       "    }\n",
       "</style>\n",
       "<table border=\"1\" class=\"dataframe\">\n",
       "  <thead>\n",
       "    <tr style=\"text-align: right;\">\n",
       "      <th></th>\n",
       "      <th>Barrier</th>\n",
       "      <th>Entry Spot</th>\n",
       "      <th>Exit Spot</th>\n",
       "      <th>Buy Price</th>\n",
       "    </tr>\n",
       "  </thead>\n",
       "  <tbody>\n",
       "    <tr>\n",
       "      <th>452</th>\n",
       "      <td>1642.35</td>\n",
       "      <td>1642.67</td>\n",
       "      <td>1642.02</td>\n",
       "      <td>10.5</td>\n",
       "    </tr>\n",
       "    <tr>\n",
       "      <th>1965</th>\n",
       "      <td>1649.84</td>\n",
       "      <td>1650.48</td>\n",
       "      <td>1650.21</td>\n",
       "      <td>3.5</td>\n",
       "    </tr>\n",
       "    <tr>\n",
       "      <th>1089</th>\n",
       "      <td>1634.62</td>\n",
       "      <td>1635.00</td>\n",
       "      <td>1634.89</td>\n",
       "      <td>31.5</td>\n",
       "    </tr>\n",
       "    <tr>\n",
       "      <th>316</th>\n",
       "      <td>1654.91</td>\n",
       "      <td>1654.98</td>\n",
       "      <td>1654.83</td>\n",
       "      <td>3.5</td>\n",
       "    </tr>\n",
       "    <tr>\n",
       "      <th>2655</th>\n",
       "      <td>1715.41</td>\n",
       "      <td>1715.41</td>\n",
       "      <td>1714.48</td>\n",
       "      <td>31.5</td>\n",
       "    </tr>\n",
       "    <tr>\n",
       "      <th>...</th>\n",
       "      <td>...</td>\n",
       "      <td>...</td>\n",
       "      <td>...</td>\n",
       "      <td>...</td>\n",
       "    </tr>\n",
       "    <tr>\n",
       "      <th>2133</th>\n",
       "      <td>1673.02</td>\n",
       "      <td>1673.02</td>\n",
       "      <td>1673.34</td>\n",
       "      <td>3.5</td>\n",
       "    </tr>\n",
       "    <tr>\n",
       "      <th>772</th>\n",
       "      <td>1627.11</td>\n",
       "      <td>1627.12</td>\n",
       "      <td>1626.17</td>\n",
       "      <td>3.5</td>\n",
       "    </tr>\n",
       "    <tr>\n",
       "      <th>332</th>\n",
       "      <td>1652.66</td>\n",
       "      <td>1652.87</td>\n",
       "      <td>1653.44</td>\n",
       "      <td>10.5</td>\n",
       "    </tr>\n",
       "    <tr>\n",
       "      <th>329</th>\n",
       "      <td>1654.55</td>\n",
       "      <td>1654.55</td>\n",
       "      <td>1654.94</td>\n",
       "      <td>10.5</td>\n",
       "    </tr>\n",
       "    <tr>\n",
       "      <th>1311</th>\n",
       "      <td>1638.23</td>\n",
       "      <td>1638.49</td>\n",
       "      <td>1638.32</td>\n",
       "      <td>94.5</td>\n",
       "    </tr>\n",
       "  </tbody>\n",
       "</table>\n",
       "<p>617 rows × 4 columns</p>\n",
       "</div>"
      ],
      "text/plain": [
       "      Barrier  Entry Spot  Exit Spot  Buy Price\n",
       "452   1642.35     1642.67    1642.02       10.5\n",
       "1965  1649.84     1650.48    1650.21        3.5\n",
       "1089  1634.62     1635.00    1634.89       31.5\n",
       "316   1654.91     1654.98    1654.83        3.5\n",
       "2655  1715.41     1715.41    1714.48       31.5\n",
       "...       ...         ...        ...        ...\n",
       "2133  1673.02     1673.02    1673.34        3.5\n",
       "772   1627.11     1627.12    1626.17        3.5\n",
       "332   1652.66     1652.87    1653.44       10.5\n",
       "329   1654.55     1654.55    1654.94       10.5\n",
       "1311  1638.23     1638.49    1638.32       94.5\n",
       "\n",
       "[617 rows x 4 columns]"
      ]
     },
     "execution_count": 66,
     "metadata": {},
     "output_type": "execute_result"
    }
   ],
   "source": [
    "x_test"
   ]
  },
  {
   "cell_type": "code",
   "execution_count": 67,
   "id": "24ca94b4-2103-4285-aded-73ac2ad5602b",
   "metadata": {},
   "outputs": [
    {
     "data": {
      "text/html": [
       "<div>\n",
       "<style scoped>\n",
       "    .dataframe tbody tr th:only-of-type {\n",
       "        vertical-align: middle;\n",
       "    }\n",
       "\n",
       "    .dataframe tbody tr th {\n",
       "        vertical-align: top;\n",
       "    }\n",
       "\n",
       "    .dataframe thead th {\n",
       "        text-align: right;\n",
       "    }\n",
       "</style>\n",
       "<table border=\"1\" class=\"dataframe\">\n",
       "  <thead>\n",
       "    <tr style=\"text-align: right;\">\n",
       "      <th></th>\n",
       "      <th>Barrier</th>\n",
       "      <th>Entry Spot</th>\n",
       "      <th>Exit Spot</th>\n",
       "      <th>Buy Price</th>\n",
       "    </tr>\n",
       "  </thead>\n",
       "  <tbody>\n",
       "    <tr>\n",
       "      <th>2416</th>\n",
       "      <td>1702.49</td>\n",
       "      <td>1702.49</td>\n",
       "      <td>1702.80</td>\n",
       "      <td>94.5</td>\n",
       "    </tr>\n",
       "    <tr>\n",
       "      <th>780</th>\n",
       "      <td>1624.54</td>\n",
       "      <td>1624.54</td>\n",
       "      <td>1625.22</td>\n",
       "      <td>10.5</td>\n",
       "    </tr>\n",
       "    <tr>\n",
       "      <th>2947</th>\n",
       "      <td>1687.33</td>\n",
       "      <td>1687.34</td>\n",
       "      <td>1686.95</td>\n",
       "      <td>10.5</td>\n",
       "    </tr>\n",
       "    <tr>\n",
       "      <th>2962</th>\n",
       "      <td>1687.81</td>\n",
       "      <td>1688.16</td>\n",
       "      <td>1688.10</td>\n",
       "      <td>3.5</td>\n",
       "    </tr>\n",
       "    <tr>\n",
       "      <th>1208</th>\n",
       "      <td>1646.55</td>\n",
       "      <td>1647.05</td>\n",
       "      <td>1646.63</td>\n",
       "      <td>3.5</td>\n",
       "    </tr>\n",
       "    <tr>\n",
       "      <th>...</th>\n",
       "      <td>...</td>\n",
       "      <td>...</td>\n",
       "      <td>...</td>\n",
       "      <td>...</td>\n",
       "    </tr>\n",
       "    <tr>\n",
       "      <th>1930</th>\n",
       "      <td>1649.97</td>\n",
       "      <td>1650.33</td>\n",
       "      <td>1649.47</td>\n",
       "      <td>31.5</td>\n",
       "    </tr>\n",
       "    <tr>\n",
       "      <th>79</th>\n",
       "      <td>1669.58</td>\n",
       "      <td>1669.58</td>\n",
       "      <td>1670.05</td>\n",
       "      <td>3.5</td>\n",
       "    </tr>\n",
       "    <tr>\n",
       "      <th>1859</th>\n",
       "      <td>1647.43</td>\n",
       "      <td>1647.52</td>\n",
       "      <td>1647.18</td>\n",
       "      <td>3.5</td>\n",
       "    </tr>\n",
       "    <tr>\n",
       "      <th>2840</th>\n",
       "      <td>1700.10</td>\n",
       "      <td>1700.10</td>\n",
       "      <td>1701.77</td>\n",
       "      <td>3.5</td>\n",
       "    </tr>\n",
       "    <tr>\n",
       "      <th>1544</th>\n",
       "      <td>1642.51</td>\n",
       "      <td>1642.51</td>\n",
       "      <td>1643.32</td>\n",
       "      <td>3.5</td>\n",
       "    </tr>\n",
       "  </tbody>\n",
       "</table>\n",
       "<p>2467 rows × 4 columns</p>\n",
       "</div>"
      ],
      "text/plain": [
       "      Barrier  Entry Spot  Exit Spot  Buy Price\n",
       "2416  1702.49     1702.49    1702.80       94.5\n",
       "780   1624.54     1624.54    1625.22       10.5\n",
       "2947  1687.33     1687.34    1686.95       10.5\n",
       "2962  1687.81     1688.16    1688.10        3.5\n",
       "1208  1646.55     1647.05    1646.63        3.5\n",
       "...       ...         ...        ...        ...\n",
       "1930  1649.97     1650.33    1649.47       31.5\n",
       "79    1669.58     1669.58    1670.05        3.5\n",
       "1859  1647.43     1647.52    1647.18        3.5\n",
       "2840  1700.10     1700.10    1701.77        3.5\n",
       "1544  1642.51     1642.51    1643.32        3.5\n",
       "\n",
       "[2467 rows x 4 columns]"
      ]
     },
     "execution_count": 67,
     "metadata": {},
     "output_type": "execute_result"
    }
   ],
   "source": [
    "x_train"
   ]
  },
  {
   "cell_type": "markdown",
   "id": "a69c6710-793f-404f-a154-592d6c2b4169",
   "metadata": {},
   "source": [
    "## Model Building"
   ]
  },
  {
   "cell_type": "markdown",
   "id": "e7818feb-debf-4de6-8862-cf4ff7c1c036",
   "metadata": {},
   "source": [
    "### Linear Regression"
   ]
  },
  {
   "cell_type": "markdown",
   "id": "652aaffe-d347-4e88-be18-04a43a05bf09",
   "metadata": {},
   "source": [
    "#### Training the model"
   ]
  },
  {
   "cell_type": "code",
   "execution_count": 68,
   "id": "745c3f4c-a7a8-4f85-9f71-f6419bbdf45a",
   "metadata": {},
   "outputs": [
    {
     "data": {
      "text/html": [
       "<style>#sk-container-id-1 {color: black;background-color: white;}#sk-container-id-1 pre{padding: 0;}#sk-container-id-1 div.sk-toggleable {background-color: white;}#sk-container-id-1 label.sk-toggleable__label {cursor: pointer;display: block;width: 100%;margin-bottom: 0;padding: 0.3em;box-sizing: border-box;text-align: center;}#sk-container-id-1 label.sk-toggleable__label-arrow:before {content: \"▸\";float: left;margin-right: 0.25em;color: #696969;}#sk-container-id-1 label.sk-toggleable__label-arrow:hover:before {color: black;}#sk-container-id-1 div.sk-estimator:hover label.sk-toggleable__label-arrow:before {color: black;}#sk-container-id-1 div.sk-toggleable__content {max-height: 0;max-width: 0;overflow: hidden;text-align: left;background-color: #f0f8ff;}#sk-container-id-1 div.sk-toggleable__content pre {margin: 0.2em;color: black;border-radius: 0.25em;background-color: #f0f8ff;}#sk-container-id-1 input.sk-toggleable__control:checked~div.sk-toggleable__content {max-height: 200px;max-width: 100%;overflow: auto;}#sk-container-id-1 input.sk-toggleable__control:checked~label.sk-toggleable__label-arrow:before {content: \"▾\";}#sk-container-id-1 div.sk-estimator input.sk-toggleable__control:checked~label.sk-toggleable__label {background-color: #d4ebff;}#sk-container-id-1 div.sk-label input.sk-toggleable__control:checked~label.sk-toggleable__label {background-color: #d4ebff;}#sk-container-id-1 input.sk-hidden--visually {border: 0;clip: rect(1px 1px 1px 1px);clip: rect(1px, 1px, 1px, 1px);height: 1px;margin: -1px;overflow: hidden;padding: 0;position: absolute;width: 1px;}#sk-container-id-1 div.sk-estimator {font-family: monospace;background-color: #f0f8ff;border: 1px dotted black;border-radius: 0.25em;box-sizing: border-box;margin-bottom: 0.5em;}#sk-container-id-1 div.sk-estimator:hover {background-color: #d4ebff;}#sk-container-id-1 div.sk-parallel-item::after {content: \"\";width: 100%;border-bottom: 1px solid gray;flex-grow: 1;}#sk-container-id-1 div.sk-label:hover label.sk-toggleable__label {background-color: #d4ebff;}#sk-container-id-1 div.sk-serial::before {content: \"\";position: absolute;border-left: 1px solid gray;box-sizing: border-box;top: 0;bottom: 0;left: 50%;z-index: 0;}#sk-container-id-1 div.sk-serial {display: flex;flex-direction: column;align-items: center;background-color: white;padding-right: 0.2em;padding-left: 0.2em;position: relative;}#sk-container-id-1 div.sk-item {position: relative;z-index: 1;}#sk-container-id-1 div.sk-parallel {display: flex;align-items: stretch;justify-content: center;background-color: white;position: relative;}#sk-container-id-1 div.sk-item::before, #sk-container-id-1 div.sk-parallel-item::before {content: \"\";position: absolute;border-left: 1px solid gray;box-sizing: border-box;top: 0;bottom: 0;left: 50%;z-index: -1;}#sk-container-id-1 div.sk-parallel-item {display: flex;flex-direction: column;z-index: 1;position: relative;background-color: white;}#sk-container-id-1 div.sk-parallel-item:first-child::after {align-self: flex-end;width: 50%;}#sk-container-id-1 div.sk-parallel-item:last-child::after {align-self: flex-start;width: 50%;}#sk-container-id-1 div.sk-parallel-item:only-child::after {width: 0;}#sk-container-id-1 div.sk-dashed-wrapped {border: 1px dashed gray;margin: 0 0.4em 0.5em 0.4em;box-sizing: border-box;padding-bottom: 0.4em;background-color: white;}#sk-container-id-1 div.sk-label label {font-family: monospace;font-weight: bold;display: inline-block;line-height: 1.2em;}#sk-container-id-1 div.sk-label-container {text-align: center;}#sk-container-id-1 div.sk-container {/* jupyter's `normalize.less` sets `[hidden] { display: none; }` but bootstrap.min.css set `[hidden] { display: none !important; }` so we also need the `!important` here to be able to override the default hidden behavior on the sphinx rendered scikit-learn.org. See: https://github.com/scikit-learn/scikit-learn/issues/21755 */display: inline-block !important;position: relative;}#sk-container-id-1 div.sk-text-repr-fallback {display: none;}</style><div id=\"sk-container-id-1\" class=\"sk-top-container\"><div class=\"sk-text-repr-fallback\"><pre>LinearRegression()</pre><b>In a Jupyter environment, please rerun this cell to show the HTML representation or trust the notebook. <br />On GitHub, the HTML representation is unable to render, please try loading this page with nbviewer.org.</b></div><div class=\"sk-container\" hidden><div class=\"sk-item\"><div class=\"sk-estimator sk-toggleable\"><input class=\"sk-toggleable__control sk-hidden--visually\" id=\"sk-estimator-id-1\" type=\"checkbox\" checked><label for=\"sk-estimator-id-1\" class=\"sk-toggleable__label sk-toggleable__label-arrow\">LinearRegression</label><div class=\"sk-toggleable__content\"><pre>LinearRegression()</pre></div></div></div></div></div>"
      ],
      "text/plain": [
       "LinearRegression()"
      ]
     },
     "execution_count": 68,
     "metadata": {},
     "output_type": "execute_result"
    }
   ],
   "source": [
    "from sklearn.linear_model import LinearRegression\n",
    "lr = LinearRegression()\n",
    "lr.fit(x_train, y_train)"
   ]
  },
  {
   "cell_type": "markdown",
   "id": "d70ff648-7043-4b64-b418-90df4c0ed8fa",
   "metadata": {},
   "source": [
    "#### Applying the model to make predictions"
   ]
  },
  {
   "cell_type": "code",
   "execution_count": 69,
   "id": "4328223c-fb1b-47ed-9227-b810a3443922",
   "metadata": {},
   "outputs": [
    {
     "data": {
      "text/plain": [
       "array([ -7.36445971,  13.68530527, -12.63534204, ...,  -9.03565203,\n",
       "        39.16012988,  17.88882808])"
      ]
     },
     "execution_count": 69,
     "metadata": {},
     "output_type": "execute_result"
    }
   ],
   "source": [
    "y_lr_train_pred = lr.predict(x_train)\n",
    "y_lr_test_pred = lr.predict(x_test)\n",
    "y_lr_train_pred"
   ]
  },
  {
   "cell_type": "code",
   "execution_count": 70,
   "id": "f8c07995-6e95-499b-9b2f-167bc596d5fc",
   "metadata": {},
   "outputs": [
    {
     "data": {
      "text/plain": [
       "array([-1.37722402e+01,  2.07929658e+00, -2.35341971e+00, -4.67637704e+00,\n",
       "       -2.91442803e+01, -4.64026490e+00,  1.38474024e+00, -1.56063206e+01,\n",
       "       -9.06328123e+00, -3.43670479e-01,  1.17024264e+01, -1.67310518e+00,\n",
       "        2.40780423e+01, -4.71960427e+01,  1.09488820e+01, -8.81794939e+00,\n",
       "       -5.84121624e+00, -3.39373144e+00, -5.37025998e+00, -1.47115058e+01,\n",
       "        1.46620362e+01,  1.06392231e+00, -4.93040845e+01, -1.21306531e+01,\n",
       "       -2.07748821e+01, -1.47773793e+01, -1.55800425e+01, -9.35550090e-01,\n",
       "       -2.92533255e+00,  1.46700614e+01, -1.24368746e+01,  7.41157644e+00,\n",
       "        3.61897132e+01,  7.49613119e+00,  4.58523574e+01, -5.66271046e+00,\n",
       "       -1.20558207e+01,  2.23461723e+01, -1.23616270e+00, -1.90552954e+01,\n",
       "       -2.91162285e+01,  7.00238435e+00, -4.13455802e+00, -1.87860159e+01,\n",
       "       -3.86331259e+00, -9.58085450e+00, -1.52729279e+01, -3.03813353e+01,\n",
       "        4.27302300e+00,  1.56542786e+01, -6.76752189e-01, -8.49615994e+00,\n",
       "       -9.22433345e-01, -3.14662676e+00, -1.97635032e+01,  9.79497278e+00,\n",
       "        7.23366515e+00,  3.86750143e+01, -1.88658562e+01,  1.14769630e+01,\n",
       "        7.49713648e+00,  2.45719122e+01, -2.44214311e+01,  1.29398855e+01,\n",
       "       -2.78978317e+01,  1.69448272e+01, -4.13553661e+00, -6.11667716e+00,\n",
       "        1.66533718e+01, -1.67570486e+01,  1.93744202e+01,  1.78901633e+01,\n",
       "       -4.07905401e+00,  8.48429474e+00, -5.94117186e+00, -8.83793661e+00,\n",
       "       -1.89900953e+01, -4.90918828e+00, -7.93797314e+01, -2.29240410e+01,\n",
       "       -1.24821510e+01, -1.15835401e+01, -1.67385591e+00, -1.57150990e+01,\n",
       "        1.61485264e+01, -1.83843233e+01,  5.26470122e+00, -7.10335185e+00,\n",
       "       -7.78716103e+00,  1.79665433e+00, -1.92649574e+01, -2.88403282e+00,\n",
       "        1.86316865e+01, -3.89138829e+00,  3.67883898e+00,  8.25882864e+00,\n",
       "       -9.16227024e-01,  1.19375675e+01,  1.55764569e+00, -1.96581754e+00,\n",
       "        5.51830959e+00, -3.42314422e+01,  2.60471758e+00,  1.05959359e+00,\n",
       "       -6.44973444e+00,  1.29223967e+01,  9.55748344e+00, -5.39635102e+00,\n",
       "        3.56066337e+00, -1.40207652e+01,  2.08810909e+01, -1.82281840e+01,\n",
       "        9.22600015e+00,  6.74496762e+00, -2.60445630e+01,  2.51744744e+01,\n",
       "       -1.20546158e+01, -6.43466177e+00, -2.07604822e+01,  1.78320668e+01,\n",
       "       -1.54979411e+01,  1.19523226e+01, -9.94765693e+00, -5.12601179e+00,\n",
       "        2.95941891e+01,  5.75718155e+00,  8.73220327e+00, -2.01237561e+01,\n",
       "       -1.25586019e+01, -1.99772967e+01, -8.88729419e+00,  6.71169308e+00,\n",
       "       -2.36857215e+01, -3.33471006e+00, -8.58970371e+00, -1.25542890e+01,\n",
       "       -1.61637619e+01, -4.05995689e+00,  7.24597611e+00,  4.53291749e+00,\n",
       "       -2.82157172e+00,  9.06391149e+00, -2.25697422e+01,  2.08621746e+01,\n",
       "        6.74914034e+00, -1.10737829e+01,  5.51302751e+00,  6.80291672e+00,\n",
       "       -7.35743999e+00,  3.17663726e-01,  1.79532496e+00, -4.62934293e+00,\n",
       "       -1.40008739e+01,  4.02997033e+00, -1.18070143e+01, -5.62976932e+00,\n",
       "       -3.16046430e+01,  7.29131887e-02,  4.40097569e+00,  1.14515308e+01,\n",
       "       -9.95670324e+00,  1.78897643e+01,  1.98073342e+00, -1.00748893e+01,\n",
       "        1.48574116e+00,  2.79234412e+00,  5.99693823e+00,  1.29318183e+01,\n",
       "        1.31875312e+01,  6.25715644e+00,  1.19509622e+01, -1.62636038e+00,\n",
       "       -1.18085703e+01, -7.62698082e+00,  2.20964399e+01,  1.20358950e+01,\n",
       "        7.24715851e+00, -1.41228186e+01, -1.44220592e+01, -8.07499548e+00,\n",
       "        2.30837372e+01,  1.29412457e+01, -2.62377297e+00,  2.73207431e+00,\n",
       "        7.98913765e+00,  7.74196598e+00,  9.86078311e-01,  1.29383162e+01,\n",
       "       -1.35374205e+01,  5.87462922e+00, -1.65079889e+01, -4.13626807e-01,\n",
       "        6.22441845e+00,  2.40782111e+01, -6.91328815e+00, -5.43804405e+00,\n",
       "        5.71501096e+00, -2.18572500e+01,  8.22528390e+00, -1.19252416e+01,\n",
       "       -4.87500697e+00, -5.63370669e+00,  1.06364605e+00, -4.42053190e+01,\n",
       "       -6.37055462e+00, -1.00862546e+01, -2.19590008e+01,  1.98560769e+01,\n",
       "       -2.51461316e+01, -4.49699924e+01, -8.82268247e+00,  8.22642025e+00,\n",
       "       -9.31173995e-01, -1.17224645e+01,  4.37448802e+00,  1.29404361e+01,\n",
       "        1.51672387e+01, -2.28702390e+01, -1.79938910e+00,  2.01198270e+01,\n",
       "        1.83875019e+01,  2.54122404e+00, -4.27357848e+01, -5.32367029e+01,\n",
       "        2.38285798e+01, -1.16850204e+00,  1.62297211e+01,  5.51524000e+00,\n",
       "       -1.15317508e+01,  3.12492406e+01, -2.69004459e+01, -1.19366815e+01,\n",
       "        2.28415280e+00,  9.45842483e+00, -1.38268371e+01,  3.53231521e+00,\n",
       "       -8.25653867e+00,  1.91265157e+01,  1.63988752e+01, -2.89531483e+00,\n",
       "       -6.12300217e+00,  2.54895173e+00, -1.70030062e+00, -5.79547833e+00,\n",
       "        1.66288928e+01, -3.01749864e+00, -9.51963201e+00,  4.12239225e+00,\n",
       "       -3.11433141e+01,  2.06067819e+01,  2.33289475e+01,  1.43603424e+01,\n",
       "        4.02647468e+00, -9.09910943e+00, -8.34954796e+00, -1.82448199e+01,\n",
       "        1.43469152e+01,  6.38061073e-02, -5.37255243e+00, -2.15969236e+00,\n",
       "        3.61156714e+00, -1.65945979e+01,  3.53381991e+00, -1.29482504e+01,\n",
       "       -5.62224278e+00, -1.21862601e+01,  2.85303294e+01,  6.95755841e+00,\n",
       "       -2.69058273e+01, -2.23985335e+01, -1.26616189e+01,  2.04294654e+00,\n",
       "        1.21989494e+01, -3.39108968e+00, -8.40129872e+00,  1.81388239e+01,\n",
       "       -8.04062568e+00, -6.43265311e+00, -8.10898150e+00, -8.60250979e+00,\n",
       "       -1.95006547e+01, -9.14286293e+00, -9.34421328e+00, -8.83504676e+00,\n",
       "        3.21167475e+00, -1.49048562e+01,  8.58328825e+00,  1.73859290e-01,\n",
       "        1.26803586e+01, -1.32065079e+01,  9.10324992e+00,  2.78738098e+00,\n",
       "       -1.91576718e+01, -1.74550631e+01, -1.90414234e+01,  1.43685881e+01,\n",
       "       -1.61196465e+00, -6.89713937e+00, -2.32222857e+01,  1.93617991e+01,\n",
       "       -8.34089733e+00, -4.34956829e+01, -2.93694195e+01, -1.07983249e+01,\n",
       "       -6.98557352e+00, -1.77490803e+01, -6.10051338e+00, -1.15636661e+01,\n",
       "       -1.97350625e+01, -2.22022543e+01, -1.03230587e+01, -5.56940645e+00,\n",
       "        1.36808160e+01, -6.69331462e-01,  2.40768509e+01,  9.06326434e+00,\n",
       "       -1.95457000e+01, -5.48794899e+01,  2.06104961e+01,  1.39894225e+01,\n",
       "       -1.87037255e+01, -1.82463645e+01,  2.75386147e+01, -3.21176827e+01,\n",
       "        1.73197472e+01,  8.23994502e+00,  1.61568929e+01,  1.91231946e+01,\n",
       "        2.01028514e+00,  1.15660388e+01, -3.41703314e+00,  7.69977429e+00,\n",
       "        2.78436128e+00, -7.76321500e+00,  3.02715655e+00,  1.64034547e+01,\n",
       "        7.98279512e+00,  1.00463677e+01,  1.57585133e+01, -5.12526373e+00,\n",
       "       -1.17980921e+01,  2.65423034e+01, -1.32750401e+01, -5.23599859e+00,\n",
       "        1.71949100e+01, -1.94755028e+00,  2.25774149e+01, -2.69090382e+00,\n",
       "       -2.42503453e+00,  1.49183460e+01,  1.93732462e+01,  6.64887935e-01,\n",
       "        1.86310860e+01,  8.47778722e+00, -2.12379417e+01, -1.08174022e+01,\n",
       "        6.50401762e+00, -5.87290671e+00, -8.10059946e+00,  7.49535996e+00,\n",
       "        7.49575133e+00, -4.27061591e-02,  1.16431111e+01,  4.02447385e+00,\n",
       "        8.09056734e-01, -1.41453988e+00,  1.31885870e+01, -2.70115283e+01,\n",
       "       -1.09990473e+01,  1.75103636e+00, -3.21466140e+00,  1.81312057e+01,\n",
       "       -1.13929151e+01, -2.96369242e+01, -3.66764343e+01,  1.72667628e+00,\n",
       "        2.73594568e+00, -1.12326723e+01, -1.92326612e+01,  1.90732940e+00,\n",
       "       -1.75851709e+01, -1.03966745e+01, -3.39198354e+00, -1.27629200e+01,\n",
       "       -2.91293049e+01, -5.04228577e+00,  1.95163338e+01,  1.68851036e+01,\n",
       "       -1.46756369e+01,  1.83254906e+00, -3.63280209e+00,  5.52875671e-01,\n",
       "        7.97609781e+00, -2.71763865e+01, -3.40611707e+00, -1.74159159e+01,\n",
       "        1.59042802e+01,  1.04663869e+01,  8.72169629e+00,  1.09527899e+01,\n",
       "       -5.00032203e+01,  8.98064897e+00,  1.73932201e+01,  1.56649072e+01,\n",
       "       -2.17554045e+01,  3.59034104e+00,  1.09625973e+01,  2.23439552e+01,\n",
       "        2.54459099e+00, -1.26669775e+00, -2.65490170e+00,  5.28748077e+00,\n",
       "        1.06171943e+00,  2.28371241e+01,  2.03711734e+00, -3.08549820e+00,\n",
       "       -2.62836125e+01,  3.19874908e+01,  1.69017523e+01, -1.70622193e+01,\n",
       "        2.25932887e+01,  1.49093849e+01, -2.00497507e+01,  1.01480412e+01,\n",
       "       -9.00688482e-01, -1.67734130e+01, -1.22925359e+02,  1.78813997e+01,\n",
       "       -2.51282209e+01,  5.50839497e+00,  4.01666543e+00, -8.80173798e+00,\n",
       "       -5.18969290e+01, -5.12614623e+00, -8.60216047e+00, -8.83416293e+00,\n",
       "       -1.40427322e+01, -5.87906300e+00, -1.82407606e+01, -4.43262574e+00,\n",
       "       -7.45899726e+00, -3.80121809e+00,  1.33665527e+00, -1.01272144e+01,\n",
       "       -4.36523413e+00,  4.52692873e+00,  5.63954023e-01, -5.16974994e+00,\n",
       "        4.85861839e-01, -1.22345536e+01,  1.55159668e+00, -1.75937467e-01,\n",
       "       -8.35014254e+00, -9.19588084e+01, -2.64504258e-01, -1.36786431e+01,\n",
       "       -1.28047550e+01, -7.58369128e+00, -1.98081319e+01,  9.72163701e+00,\n",
       "       -2.43531202e+01,  2.08662667e+00,  3.11578188e+00,  6.25839599e+00,\n",
       "       -6.11545320e+00,  1.38208954e+01, -6.40874989e+00,  2.15934414e+01,\n",
       "        2.11050585e+01, -8.45081953e+00,  1.41777475e+01,  4.43612976e+01,\n",
       "       -2.13268980e+01,  4.33656059e+01, -7.10984933e+00,  1.76405608e+01,\n",
       "       -2.00190472e+01, -1.16374034e+00, -9.09255602e+00, -1.02176211e+01,\n",
       "       -1.12033985e+01,  4.93994821e+00,  3.78513699e+00,  7.73435517e+00,\n",
       "        6.25402738e+00,  2.05991872e+01,  2.35721934e+01, -1.40351042e+01,\n",
       "        1.33964700e+01, -1.46157250e+02,  8.34361745e+00, -5.62614865e+01,\n",
       "        8.67916649e+00, -2.64676227e+01, -3.64444535e+01,  8.23786537e+00,\n",
       "        3.78384261e+00,  1.71369240e+01,  5.02848916e+00, -6.82665038e+00,\n",
       "       -8.10350552e+00, -2.97103842e+01,  3.77086149e+00, -8.58299038e+00,\n",
       "        1.60534347e+01,  2.79353611e+00, -7.52762645e+00,  1.11931549e+01,\n",
       "       -1.25472656e+01,  2.04457436e+00,  1.46749920e+01, -4.63075701e+00,\n",
       "        1.85733380e+01,  4.40405188e+00, -4.09959355e+00, -2.02707248e+01,\n",
       "        1.60052426e+01, -3.26060422e+01,  1.31751608e+01,  5.02237359e+00,\n",
       "       -3.14195715e+00,  2.63022933e+01,  3.54503674e+01,  2.30870048e+01,\n",
       "        1.54134589e+01, -1.57738379e+01, -6.66086714e+00,  1.91253013e+01,\n",
       "       -2.12237013e+01, -5.29522737e-01, -5.37804584e+00, -2.63051547e+01,\n",
       "        1.71462229e+01, -3.55939440e+00,  1.68892476e+01, -2.98812819e+01,\n",
       "        1.36683763e+01, -3.21016577e+01,  8.72839698e+00, -8.93537388e+00,\n",
       "       -1.83113291e+01, -4.39057793e+00,  3.39612356e+01, -1.50290175e+01,\n",
       "       -1.77456956e+01,  2.20943541e+01, -1.49076099e+01,  1.71392071e+01,\n",
       "       -3.11032593e+00, -2.44104221e+01, -4.13631168e+00,  1.14551797e+01,\n",
       "        9.96490899e+00, -2.75490617e+01,  2.08562195e+01,  1.46714773e+01,\n",
       "       -9.04912146e+00, -2.61082024e+01,  4.76570967e+00,  4.03451523e+00,\n",
       "       -1.56377757e+01,  3.52700881e+00,  4.85229882e-01, -9.49493688e-01,\n",
       "        6.20334060e+00, -5.91179108e+00, -2.22383929e+01,  1.88705647e+01,\n",
       "       -6.85948190e+00,  5.77852338e+00, -1.21878272e+01, -1.18651128e+01,\n",
       "        2.01163104e+01,  5.51585967e+00, -2.96819131e+01, -2.36904668e-01,\n",
       "        8.71876292e+00, -2.60931201e+01, -6.79295984e+00,  2.29852437e+00,\n",
       "        6.01327867e+00,  2.50572522e+01, -2.14452995e+01,  5.59319627e+00,\n",
       "        1.86318996e+01,  3.05119995e+01,  1.55995772e+01, -1.74955953e+00,\n",
       "       -9.33790719e+00, -4.12635487e+00, -2.76449883e+01, -1.37548614e+01,\n",
       "       -1.02202780e+00,  6.00303200e+00, -4.56608422e+00,  2.97702980e+01,\n",
       "       -1.97271973e+01,  2.62924725e+01, -1.53111261e+02, -1.23018185e+01,\n",
       "        1.55871429e+00,  5.26020620e+00,  2.38267386e+01, -1.93540392e+01,\n",
       "        1.30728401e+00,  7.49416489e+00, -1.51621584e+01,  8.15765851e-01,\n",
       "       -4.63493488e+00,  1.31035123e+00, -2.89519780e+00,  9.23217645e+00,\n",
       "        5.75698441e+00, -2.54921927e+01,  1.45403977e+01,  6.50294135e+00,\n",
       "       -1.47949928e+01])"
      ]
     },
     "execution_count": 70,
     "metadata": {},
     "output_type": "execute_result"
    }
   ],
   "source": [
    "y_lr_test_pred"
   ]
  },
  {
   "cell_type": "code",
   "execution_count": 71,
   "id": "12939f23-292a-4c9b-94db-2c066cadd007",
   "metadata": {},
   "outputs": [],
   "source": [
    "from sklearn.metrics import mean_squared_error, r2_score\n",
    "lr_train_mse = mean_squared_error(y_train, y_lr_train_pred)\n",
    "lr_train_r2 = r2_score(y_train, y_lr_train_pred)\n",
    "lr_test_mse = mean_squared_error(y_test, y_lr_test_pred)\n",
    "lr_test_r2 = r2_score(y_test, y_lr_test_pred)"
   ]
  },
  {
   "cell_type": "code",
   "execution_count": 73,
   "id": "7955c728-0e97-4473-a95a-ac872d742fe7",
   "metadata": {},
   "outputs": [],
   "source": [
    "lr_results = pd.DataFrame(['Linear Regression', lr_train_mse, lr_train_r2, lr_test_mse, lr_test_r2]).transpose()\n",
    "lr_results.columns = ['Method', 'MSE Train', 'R2 Train', 'MSE Test', 'R2 Test']"
   ]
  },
  {
   "cell_type": "code",
   "execution_count": 74,
   "id": "137ad173-dfef-4fdd-a84d-aa57c3d6c7f8",
   "metadata": {},
   "outputs": [
    {
     "data": {
      "text/html": [
       "<div>\n",
       "<style scoped>\n",
       "    .dataframe tbody tr th:only-of-type {\n",
       "        vertical-align: middle;\n",
       "    }\n",
       "\n",
       "    .dataframe tbody tr th {\n",
       "        vertical-align: top;\n",
       "    }\n",
       "\n",
       "    .dataframe thead th {\n",
       "        text-align: right;\n",
       "    }\n",
       "</style>\n",
       "<table border=\"1\" class=\"dataframe\">\n",
       "  <thead>\n",
       "    <tr style=\"text-align: right;\">\n",
       "      <th></th>\n",
       "      <th>Method</th>\n",
       "      <th>MSE Train</th>\n",
       "      <th>R2 Train</th>\n",
       "      <th>MSE Test</th>\n",
       "      <th>R2 Test</th>\n",
       "    </tr>\n",
       "  </thead>\n",
       "  <tbody>\n",
       "    <tr>\n",
       "      <th>0</th>\n",
       "      <td>Linear Regression</td>\n",
       "      <td>4504.109068</td>\n",
       "      <td>0.071443</td>\n",
       "      <td>4935.783449</td>\n",
       "      <td>0.152711</td>\n",
       "    </tr>\n",
       "  </tbody>\n",
       "</table>\n",
       "</div>"
      ],
      "text/plain": [
       "              Method    MSE Train  R2 Train     MSE Test   R2 Test\n",
       "0  Linear Regression  4504.109068  0.071443  4935.783449  0.152711"
      ]
     },
     "execution_count": 74,
     "metadata": {},
     "output_type": "execute_result"
    }
   ],
   "source": [
    "lr_results"
   ]
  },
  {
   "cell_type": "markdown",
   "id": "6166820e-1d55-47af-bf37-110b5c884645",
   "metadata": {},
   "source": [
    "### Random Forest"
   ]
  },
  {
   "cell_type": "markdown",
   "id": "ed27b894-b457-4821-b22b-baf2f6f0d693",
   "metadata": {},
   "source": [
    "#### Training the model"
   ]
  },
  {
   "cell_type": "code",
   "execution_count": 75,
   "id": "407c08f2-e3b9-4fc8-b0f4-1248bd5c3fc2",
   "metadata": {},
   "outputs": [
    {
     "data": {
      "text/html": [
       "<style>#sk-container-id-2 {color: black;background-color: white;}#sk-container-id-2 pre{padding: 0;}#sk-container-id-2 div.sk-toggleable {background-color: white;}#sk-container-id-2 label.sk-toggleable__label {cursor: pointer;display: block;width: 100%;margin-bottom: 0;padding: 0.3em;box-sizing: border-box;text-align: center;}#sk-container-id-2 label.sk-toggleable__label-arrow:before {content: \"▸\";float: left;margin-right: 0.25em;color: #696969;}#sk-container-id-2 label.sk-toggleable__label-arrow:hover:before {color: black;}#sk-container-id-2 div.sk-estimator:hover label.sk-toggleable__label-arrow:before {color: black;}#sk-container-id-2 div.sk-toggleable__content {max-height: 0;max-width: 0;overflow: hidden;text-align: left;background-color: #f0f8ff;}#sk-container-id-2 div.sk-toggleable__content pre {margin: 0.2em;color: black;border-radius: 0.25em;background-color: #f0f8ff;}#sk-container-id-2 input.sk-toggleable__control:checked~div.sk-toggleable__content {max-height: 200px;max-width: 100%;overflow: auto;}#sk-container-id-2 input.sk-toggleable__control:checked~label.sk-toggleable__label-arrow:before {content: \"▾\";}#sk-container-id-2 div.sk-estimator input.sk-toggleable__control:checked~label.sk-toggleable__label {background-color: #d4ebff;}#sk-container-id-2 div.sk-label input.sk-toggleable__control:checked~label.sk-toggleable__label {background-color: #d4ebff;}#sk-container-id-2 input.sk-hidden--visually {border: 0;clip: rect(1px 1px 1px 1px);clip: rect(1px, 1px, 1px, 1px);height: 1px;margin: -1px;overflow: hidden;padding: 0;position: absolute;width: 1px;}#sk-container-id-2 div.sk-estimator {font-family: monospace;background-color: #f0f8ff;border: 1px dotted black;border-radius: 0.25em;box-sizing: border-box;margin-bottom: 0.5em;}#sk-container-id-2 div.sk-estimator:hover {background-color: #d4ebff;}#sk-container-id-2 div.sk-parallel-item::after {content: \"\";width: 100%;border-bottom: 1px solid gray;flex-grow: 1;}#sk-container-id-2 div.sk-label:hover label.sk-toggleable__label {background-color: #d4ebff;}#sk-container-id-2 div.sk-serial::before {content: \"\";position: absolute;border-left: 1px solid gray;box-sizing: border-box;top: 0;bottom: 0;left: 50%;z-index: 0;}#sk-container-id-2 div.sk-serial {display: flex;flex-direction: column;align-items: center;background-color: white;padding-right: 0.2em;padding-left: 0.2em;position: relative;}#sk-container-id-2 div.sk-item {position: relative;z-index: 1;}#sk-container-id-2 div.sk-parallel {display: flex;align-items: stretch;justify-content: center;background-color: white;position: relative;}#sk-container-id-2 div.sk-item::before, #sk-container-id-2 div.sk-parallel-item::before {content: \"\";position: absolute;border-left: 1px solid gray;box-sizing: border-box;top: 0;bottom: 0;left: 50%;z-index: -1;}#sk-container-id-2 div.sk-parallel-item {display: flex;flex-direction: column;z-index: 1;position: relative;background-color: white;}#sk-container-id-2 div.sk-parallel-item:first-child::after {align-self: flex-end;width: 50%;}#sk-container-id-2 div.sk-parallel-item:last-child::after {align-self: flex-start;width: 50%;}#sk-container-id-2 div.sk-parallel-item:only-child::after {width: 0;}#sk-container-id-2 div.sk-dashed-wrapped {border: 1px dashed gray;margin: 0 0.4em 0.5em 0.4em;box-sizing: border-box;padding-bottom: 0.4em;background-color: white;}#sk-container-id-2 div.sk-label label {font-family: monospace;font-weight: bold;display: inline-block;line-height: 1.2em;}#sk-container-id-2 div.sk-label-container {text-align: center;}#sk-container-id-2 div.sk-container {/* jupyter's `normalize.less` sets `[hidden] { display: none; }` but bootstrap.min.css set `[hidden] { display: none !important; }` so we also need the `!important` here to be able to override the default hidden behavior on the sphinx rendered scikit-learn.org. See: https://github.com/scikit-learn/scikit-learn/issues/21755 */display: inline-block !important;position: relative;}#sk-container-id-2 div.sk-text-repr-fallback {display: none;}</style><div id=\"sk-container-id-2\" class=\"sk-top-container\"><div class=\"sk-text-repr-fallback\"><pre>RandomForestRegressor(max_depth=2, random_state=100)</pre><b>In a Jupyter environment, please rerun this cell to show the HTML representation or trust the notebook. <br />On GitHub, the HTML representation is unable to render, please try loading this page with nbviewer.org.</b></div><div class=\"sk-container\" hidden><div class=\"sk-item\"><div class=\"sk-estimator sk-toggleable\"><input class=\"sk-toggleable__control sk-hidden--visually\" id=\"sk-estimator-id-2\" type=\"checkbox\" checked><label for=\"sk-estimator-id-2\" class=\"sk-toggleable__label sk-toggleable__label-arrow\">RandomForestRegressor</label><div class=\"sk-toggleable__content\"><pre>RandomForestRegressor(max_depth=2, random_state=100)</pre></div></div></div></div></div>"
      ],
      "text/plain": [
       "RandomForestRegressor(max_depth=2, random_state=100)"
      ]
     },
     "execution_count": 75,
     "metadata": {},
     "output_type": "execute_result"
    }
   ],
   "source": [
    "from sklearn.ensemble import RandomForestRegressor\n",
    "rf = RandomForestRegressor(max_depth=2, random_state=100)\n",
    "rf.fit(x_train, y_train)"
   ]
  },
  {
   "cell_type": "code",
   "execution_count": 76,
   "id": "dc2c7144-61fe-447a-b16c-524a843f9439",
   "metadata": {},
   "outputs": [],
   "source": [
    "y_rf_train_pred = rf.predict(x_train)\n",
    "y_rf_test_pred = rf.predict(x_test)"
   ]
  },
  {
   "cell_type": "markdown",
   "id": "453d3f40-7f08-4821-88f3-eb5acb2ddddb",
   "metadata": {},
   "source": [
    "#### Evaluating the performance of the model"
   ]
  },
  {
   "cell_type": "code",
   "execution_count": 77,
   "id": "920f2287-12f6-4164-8007-fa693a2ce7cf",
   "metadata": {},
   "outputs": [],
   "source": [
    "from sklearn.metrics import mean_squared_error, r2_score\n",
    "rf_train_mse = mean_squared_error(y_train, y_rf_train_pred)\n",
    "rf_train_r2 = r2_score(y_train, y_rf_train_pred)\n",
    "rf_test_mse = mean_squared_error(y_test, y_rf_test_pred)\n",
    "rf_test_r2 = r2_score(y_test, y_rf_test_pred)"
   ]
  },
  {
   "cell_type": "code",
   "execution_count": 78,
   "id": "e057cd37-f380-4cc2-8e08-21d3808aa533",
   "metadata": {},
   "outputs": [],
   "source": [
    "rf_results = pd.DataFrame(['Random Forest', rf_train_mse, rf_train_r2, rf_test_mse, rf_test_r2]).transpose()\n",
    "rf_results.columns = ['Method', 'MSE Train', 'R2 Train', 'MSE Test', 'R2 Test']"
   ]
  },
  {
   "cell_type": "code",
   "execution_count": 79,
   "id": "efab04f8-3376-4b6e-bfe4-398cc5382cf3",
   "metadata": {},
   "outputs": [
    {
     "data": {
      "text/html": [
       "<div>\n",
       "<style scoped>\n",
       "    .dataframe tbody tr th:only-of-type {\n",
       "        vertical-align: middle;\n",
       "    }\n",
       "\n",
       "    .dataframe tbody tr th {\n",
       "        vertical-align: top;\n",
       "    }\n",
       "\n",
       "    .dataframe thead th {\n",
       "        text-align: right;\n",
       "    }\n",
       "</style>\n",
       "<table border=\"1\" class=\"dataframe\">\n",
       "  <thead>\n",
       "    <tr style=\"text-align: right;\">\n",
       "      <th></th>\n",
       "      <th>Method</th>\n",
       "      <th>MSE Train</th>\n",
       "      <th>R2 Train</th>\n",
       "      <th>MSE Test</th>\n",
       "      <th>R2 Test</th>\n",
       "    </tr>\n",
       "  </thead>\n",
       "  <tbody>\n",
       "    <tr>\n",
       "      <th>0</th>\n",
       "      <td>Random Forest</td>\n",
       "      <td>4219.308929</td>\n",
       "      <td>0.130157</td>\n",
       "      <td>5460.508284</td>\n",
       "      <td>0.062635</td>\n",
       "    </tr>\n",
       "  </tbody>\n",
       "</table>\n",
       "</div>"
      ],
      "text/plain": [
       "          Method    MSE Train  R2 Train     MSE Test   R2 Test\n",
       "0  Random Forest  4219.308929  0.130157  5460.508284  0.062635"
      ]
     },
     "execution_count": 79,
     "metadata": {},
     "output_type": "execute_result"
    }
   ],
   "source": [
    "rf_results"
   ]
  },
  {
   "cell_type": "markdown",
   "id": "dfe6f9d1-ba26-4881-9378-985ac2d8438d",
   "metadata": {},
   "source": [
    "## Comparing the Two Models"
   ]
  },
  {
   "cell_type": "code",
   "execution_count": 81,
   "id": "7aeba825-4375-48d5-ba50-68e8463ebb50",
   "metadata": {},
   "outputs": [
    {
     "data": {
      "text/html": [
       "<div>\n",
       "<style scoped>\n",
       "    .dataframe tbody tr th:only-of-type {\n",
       "        vertical-align: middle;\n",
       "    }\n",
       "\n",
       "    .dataframe tbody tr th {\n",
       "        vertical-align: top;\n",
       "    }\n",
       "\n",
       "    .dataframe thead th {\n",
       "        text-align: right;\n",
       "    }\n",
       "</style>\n",
       "<table border=\"1\" class=\"dataframe\">\n",
       "  <thead>\n",
       "    <tr style=\"text-align: right;\">\n",
       "      <th></th>\n",
       "      <th>Method</th>\n",
       "      <th>MSE Train</th>\n",
       "      <th>R2 Train</th>\n",
       "      <th>MSE Test</th>\n",
       "      <th>R2 Test</th>\n",
       "    </tr>\n",
       "  </thead>\n",
       "  <tbody>\n",
       "    <tr>\n",
       "      <th>0</th>\n",
       "      <td>Linear Regression</td>\n",
       "      <td>4504.109068</td>\n",
       "      <td>0.071443</td>\n",
       "      <td>4935.783449</td>\n",
       "      <td>0.152711</td>\n",
       "    </tr>\n",
       "    <tr>\n",
       "      <th>0</th>\n",
       "      <td>Random Forest</td>\n",
       "      <td>4219.308929</td>\n",
       "      <td>0.130157</td>\n",
       "      <td>5460.508284</td>\n",
       "      <td>0.062635</td>\n",
       "    </tr>\n",
       "  </tbody>\n",
       "</table>\n",
       "</div>"
      ],
      "text/plain": [
       "              Method    MSE Train  R2 Train     MSE Test   R2 Test\n",
       "0  Linear Regression  4504.109068  0.071443  4935.783449  0.152711\n",
       "0      Random Forest  4219.308929  0.130157  5460.508284  0.062635"
      ]
     },
     "execution_count": 81,
     "metadata": {},
     "output_type": "execute_result"
    }
   ],
   "source": [
    "df_models = pd.concat([lr_results, rf_results], axis=0)\n",
    "df_models"
   ]
  },
  {
   "cell_type": "code",
   "execution_count": 82,
   "id": "ae7f41f9-9747-47bc-8712-2fe2ec2651d5",
   "metadata": {},
   "outputs": [
    {
     "data": {
      "text/html": [
       "<div>\n",
       "<style scoped>\n",
       "    .dataframe tbody tr th:only-of-type {\n",
       "        vertical-align: middle;\n",
       "    }\n",
       "\n",
       "    .dataframe tbody tr th {\n",
       "        vertical-align: top;\n",
       "    }\n",
       "\n",
       "    .dataframe thead th {\n",
       "        text-align: right;\n",
       "    }\n",
       "</style>\n",
       "<table border=\"1\" class=\"dataframe\">\n",
       "  <thead>\n",
       "    <tr style=\"text-align: right;\">\n",
       "      <th></th>\n",
       "      <th>Method</th>\n",
       "      <th>MSE Train</th>\n",
       "      <th>R2 Train</th>\n",
       "      <th>MSE Test</th>\n",
       "      <th>R2 Test</th>\n",
       "    </tr>\n",
       "  </thead>\n",
       "  <tbody>\n",
       "    <tr>\n",
       "      <th>0</th>\n",
       "      <td>Linear Regression</td>\n",
       "      <td>4504.109068</td>\n",
       "      <td>0.071443</td>\n",
       "      <td>4935.783449</td>\n",
       "      <td>0.152711</td>\n",
       "    </tr>\n",
       "    <tr>\n",
       "      <th>1</th>\n",
       "      <td>Random Forest</td>\n",
       "      <td>4219.308929</td>\n",
       "      <td>0.130157</td>\n",
       "      <td>5460.508284</td>\n",
       "      <td>0.062635</td>\n",
       "    </tr>\n",
       "  </tbody>\n",
       "</table>\n",
       "</div>"
      ],
      "text/plain": [
       "              Method    MSE Train  R2 Train     MSE Test   R2 Test\n",
       "0  Linear Regression  4504.109068  0.071443  4935.783449  0.152711\n",
       "1      Random Forest  4219.308929  0.130157  5460.508284  0.062635"
      ]
     },
     "execution_count": 82,
     "metadata": {},
     "output_type": "execute_result"
    }
   ],
   "source": [
    "df_models.reset_index(drop=True)"
   ]
  },
  {
   "cell_type": "markdown",
   "id": "e877db0c-d6fe-4206-ba06-18ea65515d44",
   "metadata": {},
   "source": [
    "## Data Visualization of Prediction Results"
   ]
  },
  {
   "cell_type": "code",
   "execution_count": 89,
   "id": "83fad95d-3a4f-451d-b29e-0a2bdc72c3f7",
   "metadata": {},
   "outputs": [
    {
     "data": {
      "text/plain": [
       "Text(0.5, 0, 'Actual Profit/Loss ')"
      ]
     },
     "execution_count": 89,
     "metadata": {},
     "output_type": "execute_result"
    },
    {
     "data": {
      "image/png": "[encoded data removed]",
      "text/plain": [
       "<Figure size 500x500 with 1 Axes>"
      ]
     },
     "metadata": {},
     "output_type": "display_data"
    }
   ],
   "source": [
    "import matplotlib.pyplot as plt\n",
    "import numpy as np\n",
    "plt.figure(figsize=(5,5))\n",
    "plt.scatter(x=y_train, y=y_lr_train_pred, alpha=0.3, color='#7CAE00')\n",
    "z = np.polyfit(y_train, y_lr_train_pred, 1)\n",
    "p = np.poly1d(z)\n",
    "plt.plot(y_train, p(y_train), '#F8766D')\n",
    "plt.ylabel('Predicted Profit/Loss')\n",
    "plt.xlabel('Actual Profit/Loss ')"
   ]
  },
  {
   "cell_type": "code",
   "execution_count": 90,
   "id": "c3c78f24-8a42-4781-b9e9-5d285975eba2",
   "metadata": {},
   "outputs": [
    {
     "data": {
      "text/plain": [
       "Text(0.5, 0, 'Actual Profit/Loss ')"
      ]
     },
     "execution_count": 90,
     "metadata": {},
     "output_type": "execute_result"
    },
    {
     "data": {
      "image/png": "[encoded data removed]",
      "text/plain": [
       "<Figure size 500x500 with 1 Axes>"
      ]
     },
     "metadata": {},
     "output_type": "display_data"
    }
   ],
   "source": [
    "import matplotlib.pyplot as plt\n",
    "import numpy as np\n",
    "plt.figure(figsize=(5,5))\n",
    "plt.scatter(x=y_train, y=y_rf_train_pred, alpha=0.3, color='#7CAE00')\n",
    "z = np.polyfit(y_train, y_rf_train_pred, 1)\n",
    "p = np.poly1d(z)\n",
    "plt.plot(y_train, p(y_train), '#F8766D')\n",
    "plt.ylabel('Predicted Profit/Loss')\n",
    "plt.xlabel('Actual Profit/Loss ')"
   ]
  },
  {
   "cell_type": "markdown",
   "id": "b04c6104-6224-4a1e-b16e-0184a2939714",
   "metadata": {},
   "source": [
    "There is a dense concentration of points around the zero mark on the X-axis. This suggests that most predictions are centered around neutral or low-value predictions."
   ]
  },
  {
   "cell_type": "markdown",
   "id": "5c3e3803-84f3-45bd-b820-ec3d61a8f2ef",
   "metadata": {},
   "source": [
    "Cluster around (0, 0): A significant number of points are concentrated in this region. This indicates that many predictions are close to neutral, resulting in small profits or losses."
   ]
  },
  {
   "cell_type": "markdown",
   "id": "c3b2fc71-ce43-4fac-a449-e12a6fab18c3",
   "metadata": {},
   "source": [
    "Clusters at higher X-values: There are some points with higher positive X-values (towards 200 and beyond), which likely indicate strong predictions. However, these points are still scattered along the Y-axis, suggesting mixed actual results."
   ]
  },
  {
   "cell_type": "markdown",
   "id": "b73dc524-354d-448c-b3b0-ab9aae4ba75c",
   "metadata": {},
   "source": [
    "Clusters at lower X-values: There are points with very negative X-values (as low as -800), indicating strong negative predictions. These points are also spread along the Y-axis, showing varying degrees of actual losses."
   ]
  },
  {
   "cell_type": "markdown",
   "id": "334c86f2-26fc-426e-bc7e-009ce965708e",
   "metadata": {},
   "source": [
    "Outliers: There are a few outliers, especially around extreme negative X-values (-800) and extreme Y-values (e.g., around -125), which indicate rare but significant losses."
   ]
  },
  {
   "cell_type": "code",
   "execution_count": null,
   "id": "fad1cbc6-c26d-4a2d-b7e2-1f365e72b61d",
   "metadata": {},
   "outputs": [],
   "source": []
  }
 ],
 "metadata": {
  "kernelspec": {
   "display_name": "Python 3 (ipykernel)",
   "language": "python",
   "name": "python3"
  },
  "language_info": {
   "codemirror_mode": {
    "name": "ipython",
    "version": 3
   },
   "file_extension": ".py",
   "mimetype": "text/x-python",
   "name": "python",
   "nbconvert_exporter": "python",
   "pygments_lexer": "ipython3",
   "version": "3.11.7"
  }
 },
 "nbformat": 4,
 "nbformat_minor": 5
}
