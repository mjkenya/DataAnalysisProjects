{
 "cells": [
  {
   "cell_type": "code",
   "execution_count": 106,
   "id": "edd6288c-a665-405e-9812-e3dbc080d45a",
   "metadata": {},
   "outputs": [],
   "source": [
    "import requests\n",
    "from bs4 import BeautifulSoup\n",
    "import pandas as pd"
   ]
  },
  {
   "cell_type": "code",
   "execution_count": 52,
   "id": "19cca6c0-533b-4176-8dcd-46bee558ed27",
   "metadata": {},
   "outputs": [],
   "source": [
    "# Defining the URL of the Redfin search page\n",
    "URL = 'https://www.redfin.com/city/30818/TX/Austin'"
   ]
  },
  {
   "cell_type": "code",
   "execution_count": 53,
   "id": "8f0cecc8-0b40-44b0-b4e1-9383f24c48a5",
   "metadata": {},
   "outputs": [],
   "source": [
    "def scrape_redfin_page(url):\n",
    "    headers = {\n",
    "    \"User-Agent\": \"Mozilla/5.0 (Windows NT 10.0; Win64; x64) AppleWebKit/537.36 (KHTML, like Gecko) Chrome/125.0.0.0 Safari/537.36\",\n",
    "    \"Sec-Ch-Ua\": '{\"Google Chrome\";v=\"125\", \"Chromium\";v=\"125\", \"Not.A/Brand\";v=\"24\"}',\n",
    "    \"Accept\": \"text/html,application/xhtml+xml,application/xml;q=0.9,image/avif,image/webp,image/apng,*/*;q=0.8,application/signed-exchange;v=b3;q=0.7\",\n",
    "    \"Accept-Language\": \"en-US,en;q=0.9\",\n",
    "    \"Cache-Control\": \"max-age=0\",\n",
    "    \"Cookie\": \"audS=t; RF_BROWSER_ID=_kymM0-zS-ap8dTlYPY4hg; RF_BID_UPDATED=1; usprivacy=1---; OneTrustWPCCPAGoogleOptOut=false; _gcl_au=1.1.1250242377.1717508997; _scid=3b6bea92-3e0b-4847-9e6b-d3d1ef8d0a52; _fbp=fb.1.1717508998094.682492791813561446; __pdst=e195b0106e934b5a8de308a0cf40205e; _gid=GA1.2.328282761.1717508999; _tt_enable_cookie=1; _ttp=2rzBHphzrgMEhOu6CLu-tnWrCyp; _pin_unauth=dWlkPU5UYzJOVEZpWVRZdE4yUmpaUzAwTlRObUxUZ3paRGN0WVdaaU1tWTJZbUU0T1RReQ; _sctr=1%7C1717448400000; RF_VISITED=true; searchMode=1; sortOrder=1; sortOption=special_blend; ad_clicker=false; _sharedid=11d13a4f-7309-41d7-962f-22f8801bc766; _lr_env_src_ats=false; _cc_id=b061ff220d9f17e6e82ea3590626584d; GLAM-AID=03ba7488a5ed481d97832c47582652cd; GLAM-SID=64df9d1666e64405b0c4d3f92b84a6d9; panoramaId=34aeb46c38e9e08d4fdc1917dcdfa9fb927ae2811a660b7bdfe62f3fa587cea5; panoramaIdType=panoDevice; panoramaId_expiry=1717595430557; _lr_sampling_rate=100; mako_fpc_id=06618618-ac9f-4088-b67b-84f7af451b85; ki_r=; _cmmpid=276c00ef-213b-41ac-a43f-8d9099d9898f; _lr_retry_request=true; AMP_TOKEN=%24NOT_FOUND; unifiedLastSearch=name%3DAustin%26subName%3DAustin%252C%2520TX%252C%2520USA%26url%3D%252Fcity%252F30818%252FTX%252FAustin%26id%3D2_30818%26type%3D2%26unifiedSearchType%3D2%26isSavedSearch%3D%26countryCode%3DUS; RF_MARKET=austin; RF_CORVAIR_LAST_VERSION=526.0.0; userPreferences=parcels%3Dtrue%26schools%3Dfalse%26mapStyle%3Ds%26statistics%3Dtrue%26agcTooltip%3Dfalse%26agentReset%3Dfalse%26ldpRegister%3Dfalse%26afCard%3D2%26schoolType%3D0%26lastSeenLdp%3DnoSharedSearchCookie%26viewedSwipeableHomeCardsDate%3D1717577679532; RF_LAST_NAV=0; RF_BUSINESS_MARKET=13; __gads=ID=83051b3385c16f84:T=1717509034:RT=1717578954:S=ALNI_MaD-DpxoNXqN7qTjIahHcNGTvrhmQ; __gpi=UID=00000d7e93f6e2ba:T=1717509034:RT=1717578954:S=ALNI_MYgqYRbTLLUI9Zd2AaVgJHQ9928sg; __eoi=ID=5ca47e61a7d95e29:T=1717509034:RT=1717578954:S=AA-Afja_gmkfdUGLHaxUi_M79Njf; OptanonAlertBoxClosed=2024-06-05T09:18:53.372Z; _ga_928P0PZ00X=GS1.1.1717576390.7.1.1717579133.57.0.0; ki_t=1717512273997%3B1717576391318%3B1717579134313%3B2%3B12; OptanonConsent=isGpcEnabled=0&datestamp=Wed+Jun+05+2024+12%3A18%3A54+GMT%2B0300+(East+Africa+Time)&version=202403.1.0&browserGpcFlag=0&isIABGlobal=false&hosts=&consentId=04d442c9-eeae-45a7-910d-a3d808e88cb6&interactionCount=1&isAnonUser=1&landingPath=NotLandingPage&groups=C0001%3A1%2CC0003%3A1%2CSPD_BG%3A1%2CC0002%3A1%2CC0004%3A1&AwaitingReconsent=false&geolocation=KE%3B30; _scid_r=3b6bea92-3e0b-4847-9e6b-d3d1ef8d0a52; GLAM-JID=ac51fcdd93a946d28f9dbed70e452138; __j_state=%7B%22landing_url%22%3A%22https%3A%2F%2Fwww.redfin.com%2FNY%2FNew-York%2F111-Fulton-St-10038%2Funit-515%2Fhome%2F45220417%22%2C%22pageViews%22%3A7%2C%22prevPvid%22%3A%22a4f5028ac6ef41e8bdfc8e401686ff0b%22%2C%22extreferer%22%3A%22https%3A%2F%2Fwww.redfin.com%2FNY%2FNew-York%2F111-Fulton-St-10038%2Funit-515%2Fhome%2F45220417%22%2C%22user_worth%22%3A0%7D; RF_LDP_VIEWS_FOR_PROMPT=%7B%22viewsData%22%3A%7B%2206-04-2024%22%3A%7B%22127774717%22%3A2%2C%22188794557%22%3A2%7D%2C%2206-05-2024%22%3A%7B%22187139081%22%3A1%2C%22187619882%22%3A1%2C%22188362194%22%3A1%2C%22188405529%22%3A1%2C%22188765697%22%3A1%2C%22188794557%22%3A1%2C%22188967704%22%3A1%2C%22188974979%22%3A1%7D%7D%2C%22expiration%22%3A%222026-06-04T14%3A44%3A38.984Z%22%2C%22totalPromptedLdps%22%3A0%7D; FEED_COUNT=%5B%22%22%2C%22f%22%5D; PageCount=12; _rdt_uuid=1717508998426.ae99b13e-7077-4572-b6c9-6f8b3f57487c; _ga_P8GPVZXD5S=GS1.1.1717576390.6.1.1717579137.0.0.0; RF_LISTING_VIEWS=188967704.187139081.188405529.188362194.187619882.188974979.188765697.188794557.127774717; RF_LAST_DP_SERVICE_REGION=4185; _uetsid=55030df0227911ef8649a9051059ed6c; _uetvid=550315d0227911efa94f418fda3860b1; _sharedid_cst=VyxHLMwsHQ%3D%3D; _ga=GA1.2.246016008.1717508999; cto_bundle=k9n7_19iM3RKY3h2VWU2RSUyRnVoYXgwYXVyZHBVNlB5WnlHMjBQbEJYOGFCeUQ4SGFmM0g5a0VCa2RSODdvQXVXSTRDR2hPQ3B4cU9RR3hUdnliJTJCdmFEdjBCcXdWRVdYY3A4V0FmMXZiQVFlSU5OTmE3QkhXTzRsc2ZpWmNPVUpPMG5WZmxWZmVwNVhFRmo2dndCTUFoY2hOanBRJTNEJTNE; RF_BROWSER_CAPABILITIES=%7B%22screen-size%22%3A0%2C%22events-touch%22%3Afalse%2C%22ios-app-store%22%3Afalse%2C%22google-play-store%22%3Afalse%2C%22ios-web-view%22%3Afalse%2C%22android-web-view%22%3Afalse%7D; aws-waf-token=4289441a-b7fe-45c1-b329-662c76b47f95:DwoAan4/8IMfAQAA:6AsHlLstzNMCeWBN+IPtdJI9PBF/wCd4LXex6btdDNJUIP84tE83LWQtL1IezfpGD2orkPqCjVa8OJ5FBvKOJK1hvaJji8pHYyHxR/p1h8kLJ9tKeYqcsVkbUURyheCoMAuES/F6krVYu3ZQ/0cnokDjLdQXfUYhuTvU4PwgW5suvIY7jEYctAIWq6dhCa+fkWXA1z855AZ9gOPOlZQiL2GflRuKyaNGFVmT1VheyYeX5NJv+DyYoa49C0SlICriGg==; _dd_s=rum=0&expire=1717580096337\"\n",
    "}\n",
    "    response = requests.get(url, headers=headers)\n",
    "    soup = BeautifulSoup(response.content, 'html.parser')"
   ]
  },
  {
   "cell_type": "code",
   "execution_count": 101,
   "id": "12be1270-1aed-4aad-bacb-ab660bd8d94d",
   "metadata": {},
   "outputs": [],
   "source": [
    "# Find the elements that contain the data\n",
    "property_listings = soup.find_all('div', class_='bp-Homecard__Content')"
   ]
  },
  {
   "cell_type": "code",
   "execution_count": 104,
   "id": "8f274511-dcdf-4fc4-8ba6-6a0b81995c58",
   "metadata": {},
   "outputs": [],
   "source": [
    "# Extracting the data\n",
    "data = []\n",
    "for listing in property_listings:\n",
    "    home_address = listing.find('div', class_='bp-Homecard__Address flex align-center color-text-primary font-body-xsmall-compact').text.strip()\n",
    "    price = listing.find('span', class_='bp-Homecard__Price--value').text.strip()\n",
    "    bedrooms = listing.find('span', class_='bp-Homecard__Stats--beds text-nowrap').text.strip()\n",
    "    baths = listing.find('span', class_='bp-Homecard__Stats--baths text-nowrap').text.strip()\n",
    "    home_size = listing.find('span', class_='bp-Homecard__LockedStat--value').text.strip()\n",
    "    data.append({'home_address': home_address, 'price': price, 'bedrooms': bedrooms, 'baths': baths, 'home_size': home_size})"
   ]
  },
  {
   "cell_type": "code",
   "execution_count": 105,
   "id": "121e0c8a-5144-4286-bfb4-66d1767e6fff",
   "metadata": {},
   "outputs": [],
   "source": [
    "# Creating a DataFrame and save the data to a CSV file\n",
    "df = pd.DataFrame(data)\n",
    "df.to_csv('redfin_Austin_TX_listings.csv', index=False)"
   ]
  },
  {
   "cell_type": "code",
   "execution_count": 108,
   "id": "804752ba-5130-4d4d-bb95-e9bd98d2e697",
   "metadata": {},
   "outputs": [
    {
     "data": {
      "text/html": [
       "<div>\n",
       "<style scoped>\n",
       "    .dataframe tbody tr th:only-of-type {\n",
       "        vertical-align: middle;\n",
       "    }\n",
       "\n",
       "    .dataframe tbody tr th {\n",
       "        vertical-align: top;\n",
       "    }\n",
       "\n",
       "    .dataframe thead th {\n",
       "        text-align: right;\n",
       "    }\n",
       "</style>\n",
       "<table border=\"1\" class=\"dataframe\">\n",
       "  <thead>\n",
       "    <tr style=\"text-align: right;\">\n",
       "      <th></th>\n",
       "      <th>home_address</th>\n",
       "      <th>price</th>\n",
       "      <th>bedrooms</th>\n",
       "      <th>baths</th>\n",
       "      <th>home_size</th>\n",
       "    </tr>\n",
       "  </thead>\n",
       "  <tbody>\n",
       "    <tr>\n",
       "      <th>0</th>\n",
       "      <td>322 W 57th St Unit 54-T, New York, NY 10019</td>\n",
       "      <td>$5,850,000</td>\n",
       "      <td>4 beds</td>\n",
       "      <td>4 baths</td>\n",
       "      <td>3,417</td>\n",
       "    </tr>\n",
       "    <tr>\n",
       "      <th>1</th>\n",
       "      <td>475 Park Ave Unit 10A, New York, NY 10022</td>\n",
       "      <td>$4,300,000</td>\n",
       "      <td>4 beds</td>\n",
       "      <td>4 baths</td>\n",
       "      <td>—</td>\n",
       "    </tr>\n",
       "    <tr>\n",
       "      <th>2</th>\n",
       "      <td>15 W 63rd St Unit 23B, New York, NY 10023</td>\n",
       "      <td>$9,000,000</td>\n",
       "      <td>4 beds</td>\n",
       "      <td>4.5 baths</td>\n",
       "      <td>2,907</td>\n",
       "    </tr>\n",
       "    <tr>\n",
       "      <th>3</th>\n",
       "      <td>555 W End Ave Unit The Solarium, New York, NY ...</td>\n",
       "      <td>$18,000,000</td>\n",
       "      <td>3 beds</td>\n",
       "      <td>3.5 baths</td>\n",
       "      <td>3,420</td>\n",
       "    </tr>\n",
       "    <tr>\n",
       "      <th>4</th>\n",
       "      <td>555 W End Ave Unit The library, New York, NY 1...</td>\n",
       "      <td>$9,900,000</td>\n",
       "      <td>5 beds</td>\n",
       "      <td>5.5 baths</td>\n",
       "      <td>3,463</td>\n",
       "    </tr>\n",
       "  </tbody>\n",
       "</table>\n",
       "</div>"
      ],
      "text/plain": [
       "                                        home_address        price bedrooms  \\\n",
       "0        322 W 57th St Unit 54-T, New York, NY 10019   $5,850,000   4 beds   \n",
       "1          475 Park Ave Unit 10A, New York, NY 10022   $4,300,000   4 beds   \n",
       "2          15 W 63rd St Unit 23B, New York, NY 10023   $9,000,000   4 beds   \n",
       "3  555 W End Ave Unit The Solarium, New York, NY ...  $18,000,000   3 beds   \n",
       "4  555 W End Ave Unit The library, New York, NY 1...   $9,900,000   5 beds   \n",
       "\n",
       "       baths home_size  \n",
       "0    4 baths     3,417  \n",
       "1    4 baths         —  \n",
       "2  4.5 baths     2,907  \n",
       "3  3.5 baths     3,420  \n",
       "4  5.5 baths     3,463  "
      ]
     },
     "execution_count": 108,
     "metadata": {},
     "output_type": "execute_result"
    }
   ],
   "source": [
    "# Checking the shape of the data\n",
    "df.head()"
   ]
  },
  {
   "cell_type": "code",
   "execution_count": null,
   "id": "36e1038a-6cdd-4f28-89cf-570a1fb3a3b2",
   "metadata": {},
   "outputs": [],
   "source": []
  }
 ],
 "metadata": {
  "kernelspec": {
   "display_name": "Python 3 (ipykernel)",
   "language": "python",
   "name": "python3"
  },
  "language_info": {
   "codemirror_mode": {
    "name": "ipython",
    "version": 3
   },
   "file_extension": ".py",
   "mimetype": "text/x-python",
   "name": "python",
   "nbconvert_exporter": "python",
   "pygments_lexer": "ipython3",
   "version": "3.11.7"
  }
 },
 "nbformat": 4,
 "nbformat_minor": 5
}
