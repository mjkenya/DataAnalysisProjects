{
 "cells": [
  {
   "cell_type": "code",
   "execution_count": 60,
   "id": "6af8c351-8593-44fb-9588-d2c03f8ff7e2",
   "metadata": {},
   "outputs": [],
   "source": [
    "import time\n",
    "from selenium import webdriver\n",
    "from selenium.webdriver.chrome.service import Service\n",
    "from selenium.webdriver.chrome.options import Options\n",
    "from webdriver_manager.chrome import ChromeDriverManager"
   ]
  },
  {
   "cell_type": "code",
   "execution_count": 61,
   "id": "371da7af-b7fe-4c67-8891-13f503eabcf5",
   "metadata": {},
   "outputs": [
    {
     "name": "stdout",
     "output_type": "stream",
     "text": [
      "The price of the camera is: $219\n",
      "90 cents\n"
     ]
    }
   ],
   "source": [
    "options = Options()\n",
    "options.add_experimental_option(\"detach\", True)\n",
    "driver = webdriver.Chrome(service=Service(ChromeDriverManager().install()), options=options)\n",
    "driver.get(\"https://theneuralcompass.com\")\n",
    "driver.maximize_window()\n",
    "\n",
    "links = driver.find_elements(\"xpath\", \"//a[@href]\")\n",
    "for link in links:\n",
    "    if \"Finding the Best Point and Shoot Film Camera: A Complete Guide\" in link.get_attribute(\"innerHTML\"):\n",
    "        link.click()\n",
    "        break\n",
    "\n",
    "camera_links = driver.find_elements(\"xpath\", \"//a[contains(@href, 'Olympus-Stylus-Epic-Zoom')]\")\n",
    "for camera_link in camera_links:\n",
    "    if \"Olympus Stylus Epic Zoom\" in camera_link.get_attribute(\"outerHTML\"):\n",
    "        camera_link.click()\n",
    "\n",
    "time.sleep(3)\n",
    "\n",
    "prices = driver.find_elements(\"xpath\", \"//div[contains(@class, 'a-section')][.//span[contains(@class, 'aok-offscreen')]]\")\n",
    "for price in prices:\n",
    "    print(f\"The price of the camera is: {price.text} cents\")"
   ]
  },
  {
   "cell_type": "code",
   "execution_count": null,
   "id": "a54f5e79-fb3d-4c5b-ab05-834bf4b24ca3",
   "metadata": {},
   "outputs": [],
   "source": []
  }
 ],
 "metadata": {
  "kernelspec": {
   "display_name": "Python 3 (ipykernel)",
   "language": "python",
   "name": "python3"
  },
  "language_info": {
   "codemirror_mode": {
    "name": "ipython",
    "version": 3
   },
   "file_extension": ".py",
   "mimetype": "text/x-python",
   "name": "python",
   "nbconvert_exporter": "python",
   "pygments_lexer": "ipython3",
   "version": "3.11.7"
  }
 },
 "nbformat": 4,
 "nbformat_minor": 5
}
